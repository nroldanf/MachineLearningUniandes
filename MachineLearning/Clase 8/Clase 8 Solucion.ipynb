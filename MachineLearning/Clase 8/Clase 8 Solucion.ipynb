{
 "cells": [
  {
   "cell_type": "markdown",
   "metadata": {},
   "source": [
    "# Despliegue de Resultados : Dash"
   ]
  },
  {
   "cell_type": "markdown",
   "metadata": {},
   "source": [
    "Es esta clase se interactúa con notebooks y aplicaciones locales para el despliegue de modelos de analítica."
   ]
  },
  {
   "cell_type": "code",
   "execution_count": 17,
   "metadata": {},
   "outputs": [],
   "source": [
    "# Importamos paquetes necesarios\n",
    "import pandas as pd \n",
    "import numpy as np\n",
    "import plotly.graph_objs as go\n",
    "from apyori import apriori"
   ]
  },
  {
   "cell_type": "code",
   "execution_count": 2,
   "metadata": {},
   "outputs": [],
   "source": [
    "panaderia = pd.read_csv('BreadBasket_DMS.csv') # Carga y exploración de datos"
   ]
  },
  {
   "cell_type": "code",
   "execution_count": 3,
   "metadata": {},
   "outputs": [
    {
     "data": {
      "text/html": [
       "<div>\n",
       "<style scoped>\n",
       "    .dataframe tbody tr th:only-of-type {\n",
       "        vertical-align: middle;\n",
       "    }\n",
       "\n",
       "    .dataframe tbody tr th {\n",
       "        vertical-align: top;\n",
       "    }\n",
       "\n",
       "    .dataframe thead th {\n",
       "        text-align: right;\n",
       "    }\n",
       "</style>\n",
       "<table border=\"1\" class=\"dataframe\">\n",
       "  <thead>\n",
       "    <tr style=\"text-align: right;\">\n",
       "      <th></th>\n",
       "      <th>Date</th>\n",
       "      <th>Time</th>\n",
       "      <th>Transaction</th>\n",
       "      <th>Item</th>\n",
       "    </tr>\n",
       "  </thead>\n",
       "  <tbody>\n",
       "    <tr>\n",
       "      <th>0</th>\n",
       "      <td>2016-10-30</td>\n",
       "      <td>09:58:11</td>\n",
       "      <td>1</td>\n",
       "      <td>Bread</td>\n",
       "    </tr>\n",
       "    <tr>\n",
       "      <th>1</th>\n",
       "      <td>2016-10-30</td>\n",
       "      <td>10:05:34</td>\n",
       "      <td>2</td>\n",
       "      <td>Scandinavian</td>\n",
       "    </tr>\n",
       "    <tr>\n",
       "      <th>2</th>\n",
       "      <td>2016-10-30</td>\n",
       "      <td>10:05:34</td>\n",
       "      <td>2</td>\n",
       "      <td>Scandinavian</td>\n",
       "    </tr>\n",
       "    <tr>\n",
       "      <th>3</th>\n",
       "      <td>2016-10-30</td>\n",
       "      <td>10:07:57</td>\n",
       "      <td>3</td>\n",
       "      <td>Hot chocolate</td>\n",
       "    </tr>\n",
       "    <tr>\n",
       "      <th>4</th>\n",
       "      <td>2016-10-30</td>\n",
       "      <td>10:07:57</td>\n",
       "      <td>3</td>\n",
       "      <td>Jam</td>\n",
       "    </tr>\n",
       "  </tbody>\n",
       "</table>\n",
       "</div>"
      ],
      "text/plain": [
       "         Date      Time  Transaction           Item\n",
       "0  2016-10-30  09:58:11            1          Bread\n",
       "1  2016-10-30  10:05:34            2   Scandinavian\n",
       "2  2016-10-30  10:05:34            2   Scandinavian\n",
       "3  2016-10-30  10:07:57            3  Hot chocolate\n",
       "4  2016-10-30  10:07:57            3            Jam"
      ]
     },
     "execution_count": 3,
     "metadata": {},
     "output_type": "execute_result"
    }
   ],
   "source": [
    "panaderia.head()"
   ]
  },
  {
   "cell_type": "code",
   "execution_count": 4,
   "metadata": {},
   "outputs": [
    {
     "data": {
      "text/plain": [
       "Coffee                           5471\n",
       "Bread                            3325\n",
       "Tea                              1435\n",
       "Cake                             1025\n",
       "Pastry                            856\n",
       "NONE                              786\n",
       "Sandwich                          771\n",
       "Medialuna                         616\n",
       "Hot chocolate                     590\n",
       "Cookies                           540\n",
       "Brownie                           379\n",
       "Farm House                        374\n",
       "Muffin                            370\n",
       "Alfajores                         369\n",
       "Juice                             369\n",
       "Soup                              342\n",
       "Scone                             327\n",
       "Toast                             318\n",
       "Scandinavian                      277\n",
       "Truffles                          193\n",
       "Coke                              185\n",
       "Spanish Brunch                    172\n",
       "Fudge                             159\n",
       "Baguette                          152\n",
       "Jam                               149\n",
       "Tiffin                            146\n",
       "Mineral water                     136\n",
       "Jammie Dodgers                    125\n",
       "Chicken Stew                      123\n",
       "Hearty & Seasonal                 107\n",
       "                                 ... \n",
       "Victorian Sponge                    7\n",
       "Coffee granules                     7\n",
       "Honey                               6\n",
       "Half slice Monster                  6\n",
       "Lemon and coconut                   6\n",
       "Basket                              6\n",
       "Crepes                              6\n",
       "Pintxos                             6\n",
       "Panatone                            5\n",
       "Mortimer                            5\n",
       "Bare Popcorn                        5\n",
       "Bread Pudding                       4\n",
       "Cherry me Dried fruit               3\n",
       "Caramel bites                       3\n",
       "Brioche and salami                  3\n",
       "Raspberry shortbread sandwich       3\n",
       "Hack the stack                      2\n",
       "Chimichurri Oil                     2\n",
       "Siblings                            2\n",
       "Spread                              2\n",
       "Fairy Doors                         2\n",
       "Bowl Nic Pitt                       2\n",
       "Raw bars                            1\n",
       "Olum & polenta                      1\n",
       "Gift voucher                        1\n",
       "Chicken sand                        1\n",
       "Adjustment                          1\n",
       "The BART                            1\n",
       "Bacon                               1\n",
       "Polenta                             1\n",
       "Name: Item, Length: 95, dtype: int64"
      ]
     },
     "execution_count": 4,
     "metadata": {},
     "output_type": "execute_result"
    }
   ],
   "source": [
    "panaderia['Item'].value_counts()"
   ]
  },
  {
   "cell_type": "code",
   "execution_count": null,
   "metadata": {},
   "outputs": [],
   "source": []
  },
  {
   "cell_type": "markdown",
   "metadata": {},
   "source": [
    "# Reglas de Asociación\n",
    "\n",
    "¿Podemos encontrar bienes que sean comprados juntos con mucha frecuencia?\n",
    "\n",
    "<center>\n",
    "<img src='im/ar_image.png'> \n",
    "</center>\n",
    "\n",
    "- Organizar mejor estanterías de almacenes para mejorar sus ingresos.\n",
    "- Hacer mercadeo cruzado (up/cross-selling) de ciertos productos relacionados.\n",
    "- Segmentar clientes de acuerdo con sus patrones de consumo.\n",
    "- Diseñar mejores experiencias para usuarios en páginas web."
   ]
  },
  {
   "cell_type": "markdown",
   "metadata": {},
   "source": [
    "Una **regla** se define como $A\\to B$, con $A, B$ canastas  sin elementos en comun.\n",
    "\n",
    "$A$ se conoce como el _antecedente_ de la regla, y $B$ el _consecuente_."
   ]
  },
  {
   "cell_type": "markdown",
   "metadata": {},
   "source": [
    "**Soporte:** Popularidad de una canasta.\n",
    "\n",
    "El soporte de una canasta $A$, $supp(A)$ es la proporción de las transacciones en la base de datos en las que aparece la canasta $A$:\n",
    "$$supp(A) = \\frac{\\text{No. de transacciones en las que aparece }A}{\\text{No. total de transacciones}}$$"
   ]
  },
  {
   "cell_type": "markdown",
   "metadata": {},
   "source": [
    "**Confianza**\n",
    "\n",
    "La confianza mide la probabilidad de que el consecuente sea adquirido dado que ya se tiene el antecedente: $P(B|A)$.\n",
    "\n",
    "La confianza de una regla $A\\to B$ se define:\n",
    "$$conf(A\\to B) = \\frac{supp(A\\cup B)}{supp(A)}$$"
   ]
  },
  {
   "cell_type": "markdown",
   "metadata": {},
   "source": [
    "**Lift**\n",
    "\n",
    "$$lift(A\\to B) = \\frac{conf(A\\to B)}{supp(B)} = \\frac{supp(A\\cup B)}{supp(A)*supp(B)}$$\n",
    "\n",
    "Mide la probabilidad de que se compre la canasta $B$ dado que ya se tiene la canasta $A$ ($P(B|A)$), teniendo en cuenta la popularidad de la canasta $B$.\n",
    "\n",
    "Un lift mayor (menor) que $1$ indica que la canasta $B$ incrementa (reduce) su probabilidad de ser adquirida si ya se tiene la cansata $A$"
   ]
  },
  {
   "cell_type": "code",
   "execution_count": 5,
   "metadata": {},
   "outputs": [],
   "source": [
    "# El algoritmo apriori exige que la estructura de datos que recibe consista de una lista de listas, en la que cada lista interna contenga los items de la transacción.\n",
    "# Hay varias formas válidas de hacer esto, a continuación una de estas.\n",
    "data = [list(panaderia.loc[panaderia['Transaction'] == i, 'Item']) for i in panaderia['Transaction'].unique()] "
   ]
  },
  {
   "cell_type": "code",
   "execution_count": 6,
   "metadata": {},
   "outputs": [
    {
     "data": {
      "text/plain": [
       "9531"
      ]
     },
     "execution_count": 6,
     "metadata": {},
     "output_type": "execute_result"
    }
   ],
   "source": [
    "len(data)"
   ]
  },
  {
   "cell_type": "code",
   "execution_count": 7,
   "metadata": {},
   "outputs": [],
   "source": [
    "a_rules = apriori(data, min_support = 0.005, min_confidence = 0.20) # Ejecutamos el algoritmo apriori con un soporte y una confianza mínimos."
   ]
  },
  {
   "cell_type": "code",
   "execution_count": 8,
   "metadata": {},
   "outputs": [],
   "source": [
    "a_results = list(a_rules) # Transformamos el resultado en lista"
   ]
  },
  {
   "cell_type": "code",
   "execution_count": 9,
   "metadata": {},
   "outputs": [
    {
     "data": {
      "text/plain": [
       "61"
      ]
     },
     "execution_count": 9,
     "metadata": {},
     "output_type": "execute_result"
    }
   ],
   "source": [
    "len(a_results) #¿Cuántas reglas identificó el algoritmo?"
   ]
  },
  {
   "cell_type": "code",
   "execution_count": 10,
   "metadata": {},
   "outputs": [
    {
     "data": {
      "text/plain": [
       "RelationRecord(items=frozenset({'Alfajores', 'Coffee'}), support=0.019515265974189486, ordered_statistics=[OrderedStatistic(items_base=frozenset({'Alfajores'}), items_add=frozenset({'Coffee'}), confidence=0.5406976744186047, lift=1.1381160633577123)])"
      ]
     },
     "execution_count": 10,
     "metadata": {},
     "output_type": "execute_result"
    }
   ],
   "source": [
    "a_results[3] # Exploramos una regla para estudiar su estructura"
   ]
  },
  {
   "cell_type": "code",
   "execution_count": 18,
   "metadata": {},
   "outputs": [],
   "source": [
    "soportes = [regla[1] for regla in a_results] # Extraemos los soportes de las reglas"
   ]
  },
  {
   "cell_type": "code",
   "execution_count": 19,
   "metadata": {},
   "outputs": [],
   "source": [
    "confianzas = [regla[2][0][2] for regla in a_results] # Extraemos las confianzas de las reglas."
   ]
  },
  {
   "cell_type": "code",
   "execution_count": 21,
   "metadata": {},
   "outputs": [],
   "source": [
    "lifts = [regla[2][0][3] for regla in a_results] # Extraemos los lifts de las reglas."
   ]
  },
  {
   "cell_type": "code",
   "execution_count": 23,
   "metadata": {},
   "outputs": [],
   "source": [
    "antecedentes = [', '.join(list(regla[2][0][0])) for regla in a_results] # Extraemos los antecedentes de las reglas."
   ]
  },
  {
   "cell_type": "code",
   "execution_count": 24,
   "metadata": {},
   "outputs": [],
   "source": [
    "consecuentes = [', '.join(list(regla[2][0][1])) for regla in a_results] # Extraemos los consecuentes de las reglas."
   ]
  },
  {
   "cell_type": "code",
   "execution_count": 42,
   "metadata": {},
   "outputs": [],
   "source": [
    "# Resumimos la extracción anterior en una función, que en adición da formato a los valores extraídos.\n",
    "def extraer_info(regla):\n",
    "    \n",
    "    antecedente = ', '.join(regla[2][0][0])\n",
    "    consecuente = ', '.join(regla[2][0][1])\n",
    "    soporte = regla[1]\n",
    "    confianza = regla[2][0][2]\n",
    "    lift = regla[2][0][3]\n",
    "    \n",
    "    return '{:s} --> {:s} <br><br>Soporte: {:.3f} <br>Confianza: {:.3f} <br>Lift: {:.3f}'.format(antecedente, consecuente, soporte, confianza, lift)\n",
    "    "
   ]
  },
  {
   "cell_type": "code",
   "execution_count": 43,
   "metadata": {},
   "outputs": [],
   "source": [
    "infos = [extraer_info(regla) for regla in a_results] #Extraemos la información completa de las reglas con la función construida"
   ]
  },
  {
   "cell_type": "code",
   "execution_count": 32,
   "metadata": {},
   "outputs": [],
   "source": [
    "n_antecesores = [len(list(regla[2][0][0])) for regla in a_results] # Extraemos el número de antecesores de cada regla"
   ]
  },
  {
   "cell_type": "code",
   "execution_count": 44,
   "metadata": {},
   "outputs": [],
   "source": [
    "# Utilizamos plotly para graficar interactivamente las reglas de asociación resultantes.\n",
    "# El eje x coresponde al soporte, y el eje y a la confianza de cada regla. \n",
    "# El tamaño del gráfico de disporsión corresponde al lift, y el color al número de antecesores. \n",
    "# Finalmente asignamos el texto de la información extraída a cada punto del gráfico\n",
    "fig = go.Figure(data = [go.Scatter(x = soportes, y = confianzas, mode='markers',\n",
    "                                   marker = {'size': np.multiply(lifts, 10),\n",
    "                                             'color': n_antecesores},\n",
    "                                   text = infos, \n",
    "                                   hoverinfo='text')])\n",
    "fig.show(renderer = 'browser')"
   ]
  },
  {
   "cell_type": "markdown",
   "metadata": {},
   "source": [
    "### Parametrización de modelos\n",
    "\n",
    "¿De qué variables/parámetros depende nuestro modelo?"
   ]
  },
  {
   "cell_type": "code",
   "execution_count": 34,
   "metadata": {},
   "outputs": [],
   "source": [
    "# Creamos función que genera las reglas de asociación dado un soporte y una confianza mínima\n",
    "def reglas_asociacion(min_soporte, min_confianza):\n",
    "    a_rules = apriori(data, min_support = min_soporte, min_confidence = min_confianza)\n",
    "    a_results = list(a_rules)\n",
    "    \n",
    "    return a_results"
   ]
  },
  {
   "cell_type": "code",
   "execution_count": 38,
   "metadata": {},
   "outputs": [
    {
     "name": "stdin",
     "output_type": "stream",
     "text": [
      "Ingrese soporte mínimo:  0.002\n",
      "Ingrese confianza mínima:  0.3\n"
     ]
    }
   ],
   "source": [
    "# La función input permite interactuar con el notebook para ingresar valores deseados por el usuario.\n",
    "# El valor que ingrese queda guardado (como texto) en la variable especificada\n",
    "soporte = float(input('Ingrese soporte mínimo: '))\n",
    "confianza = float(input('Ingrese confianza mínima: '))\n",
    "\n",
    "# Con el soporte y la confianza ingresada por el usuario generamos nuevas reglas de asociación con la función creada\n",
    "reglas = reglas_asociacion(float(soporte), float(confianza))"
   ]
  },
  {
   "cell_type": "code",
   "execution_count": 45,
   "metadata": {},
   "outputs": [],
   "source": [
    "# Extraemos la información de las reglas resultantes \n",
    "soportes = [regla[1] for regla in reglas]\n",
    "confianzas = [regla[2][0][2] for regla in reglas]\n",
    "lifts = [regla[2][0][3] for regla in reglas]\n",
    "infos = [extraer_info(regla) for regla in reglas]\n",
    "n_antecesores = [len(list(regla[2][0][0])) for regla in reglas]"
   ]
  },
  {
   "cell_type": "code",
   "execution_count": 46,
   "metadata": {},
   "outputs": [],
   "source": [
    "# Graficamos las nuevas reglas resultantes\n",
    "fig = go.Figure(data = [go.Scatter(x = soportes, y = confianzas, mode='markers',\n",
    "                                   marker = {'color': n_antecesores,\n",
    "                                             'size': np.multiply(lifts, 10)},\n",
    "                                   text = infos, \n",
    "                                   hoverinfo='text')])\n",
    "fig.show(renderer = 'browser')"
   ]
  },
  {
   "cell_type": "code",
   "execution_count": null,
   "metadata": {},
   "outputs": [],
   "source": []
  },
  {
   "cell_type": "markdown",
   "metadata": {},
   "source": [
    "# Generación de Aplicaciones Locales con Dash"
   ]
  },
  {
   "cell_type": "markdown",
   "metadata": {},
   "source": [
    "Dash es un _framework_ de Python para crear aplicaciones web. Ideal para crear aplicaciones de visualización de datos con interfaces de usuario altamente personalizadas en Python puro. Es especialmente adecuado para cualquier persona que trabaje con datos en Python. Las aplicaciones locales se acceden vía navegadores web. \n",
    "\n",
    "Más información: \n",
    "- [Página principal Dash](https://plot.ly/dash/) \n",
    "- [Tutorial Dash](https://dash.plot.ly/)"
   ]
  },
  {
   "cell_type": "markdown",
   "metadata": {},
   "source": [
    "Para ejecutar una aplicación Dash debe guardar el código en formato _.py_ (ideal trabajar en Spyder) y luego correr el siguiente comando desde la Anaconda Prompt, ubicado en el directorio en el que se encuentra el archivo (esto se logra con el comando _cd_):\n",
    "\n",
    "_python aplicacion.py_\n",
    "\n",
    "Verá algo así:\n",
    "\n",
    "<center>\n",
    "<img src='im/ejec_dash.PNG'> \n",
    "</center>"
   ]
  },
  {
   "cell_type": "markdown",
   "metadata": {},
   "source": [
    "Luego, simplemente entre desde su navegador de preferencia a http://127.0.0.1:8050"
   ]
  },
  {
   "cell_type": "code",
   "execution_count": null,
   "metadata": {},
   "outputs": [],
   "source": []
  }
 ],
 "metadata": {
  "kernelspec": {
   "display_name": "Python 3",
   "language": "python",
   "name": "python3"
  },
  "language_info": {
   "codemirror_mode": {
    "name": "ipython",
    "version": 3
   },
   "file_extension": ".py",
   "mimetype": "text/x-python",
   "name": "python",
   "nbconvert_exporter": "python",
   "pygments_lexer": "ipython3",
   "version": "3.7.1"
  }
 },
 "nbformat": 4,
 "nbformat_minor": 2
}
