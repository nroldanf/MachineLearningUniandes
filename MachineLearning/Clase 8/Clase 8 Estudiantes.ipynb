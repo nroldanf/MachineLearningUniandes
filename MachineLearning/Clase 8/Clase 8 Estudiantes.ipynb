{
 "cells": [
  {
   "cell_type": "markdown",
   "metadata": {},
   "source": [
    "# Despliegue de Resultados : Dash"
   ]
  },
  {
   "cell_type": "markdown",
   "metadata": {},
   "source": [
    "Es esta clase se interactúa con notebooks y aplicaciones locales para el despliegue de modelos de analítica."
   ]
  },
  {
   "cell_type": "code",
   "execution_count": 17,
   "metadata": {},
   "outputs": [],
   "source": [
    "import pandas as pd \n",
    "import numpy as np\n",
    "import plotly.graph_objs as go\n",
    "from apyori import apriori"
   ]
  },
  {
   "cell_type": "code",
   "execution_count": null,
   "metadata": {},
   "outputs": [],
   "source": []
  },
  {
   "cell_type": "markdown",
   "metadata": {},
   "source": [
    "# Reglas de Asociación\n",
    "\n",
    "¿Podemos encontrar bienes que sean comprados juntos con mucha frecuencia?\n",
    "\n",
    "<center>\n",
    "<img src='im/ar_image.png'> \n",
    "</center>\n",
    "\n",
    "- Organizar mejor estanterías de almacenes para mejorar sus ingresos.\n",
    "- Hacer mercadeo cruzado (up/cross-selling) de ciertos productos relacionados.\n",
    "- Segmentar clientes de acuerdo con sus patrones de consumo.\n",
    "- Diseñar mejores experiencias para usuarios en páginas web."
   ]
  },
  {
   "cell_type": "markdown",
   "metadata": {},
   "source": [
    "Una **regla** se define como $A\\to B$, con $A, B$ canastas  sin elementos en comun.\n",
    "\n",
    "$A$ se conoce como el _antecedente_ de la regla, y $B$ el _consecuente_."
   ]
  },
  {
   "cell_type": "markdown",
   "metadata": {},
   "source": [
    "**Soporte:** Popularidad de una canasta.\n",
    "\n",
    "El soporte de una canasta $A$, $supp(A)$ es la proporción de las transacciones en la base de datos en las que aparece la canasta $A$:\n",
    "$$supp(A) = \\frac{\\text{No. de transacciones en las que aparece }A}{\\text{No. total de transacciones}}$$"
   ]
  },
  {
   "cell_type": "markdown",
   "metadata": {},
   "source": [
    "**Confianza**\n",
    "\n",
    "La confianza mide la probabilidad de que el consecuente sea adquirido dado que ya se tiene el antecedente: $P(B|A)$.\n",
    "\n",
    "La confianza de una regla $A\\to B$ se define:\n",
    "$$conf(A\\to B) = \\frac{supp(A\\cup B)}{supp(A)}$$"
   ]
  },
  {
   "cell_type": "markdown",
   "metadata": {},
   "source": [
    "**Lift**\n",
    "\n",
    "$$lift(A\\to B) = \\frac{conf(A\\to B)}{supp(B)} = \\frac{supp(A\\cup B)}{supp(A)*supp(B)}$$\n",
    "\n",
    "Mide la probabilidad de que se compre la canasta $B$ dado que ya se tiene la canasta $A$ ($P(B|A)$), teniendo en cuenta la popularidad de la canasta $B$.\n",
    "\n",
    "Un lift mayor (menor) que $1$ indica que la canasta $B$ incrementa (reduce) su probabilidad de ser adquirida si ya se tiene la cansata $A$"
   ]
  },
  {
   "cell_type": "code",
   "execution_count": 18,
   "metadata": {},
   "outputs": [],
   "source": [
    "soportes = "
   ]
  },
  {
   "cell_type": "code",
   "execution_count": 19,
   "metadata": {},
   "outputs": [],
   "source": [
    "confianzas = "
   ]
  },
  {
   "cell_type": "code",
   "execution_count": 21,
   "metadata": {},
   "outputs": [],
   "source": [
    "lifts = "
   ]
  },
  {
   "cell_type": "code",
   "execution_count": 23,
   "metadata": {},
   "outputs": [],
   "source": [
    "antecedentes = "
   ]
  },
  {
   "cell_type": "code",
   "execution_count": 24,
   "metadata": {},
   "outputs": [],
   "source": [
    "consecuentes = "
   ]
  },
  {
   "cell_type": "code",
   "execution_count": 42,
   "metadata": {},
   "outputs": [],
   "source": [
    "def extraer_info(regla):\n",
    "    \n",
    "    antecedente = ', '.join(regla[2][0][0])\n",
    "    consecuente = ', '.join(regla[2][0][1])\n",
    "    soporte = regla[1]\n",
    "    confianza = regla[2][0][2]\n",
    "    lift = regla[2][0][3]\n",
    "    \n",
    "    return '{:s} --> {:s} <br><br>Soporte: {:.3f} <br>Confianza: {:.3f} <br>Lift: {:.3f}'.format(antecedente, consecuente, soporte, confianza, lift)\n",
    "    "
   ]
  },
  {
   "cell_type": "code",
   "execution_count": 43,
   "metadata": {},
   "outputs": [],
   "source": [
    "infos = "
   ]
  },
  {
   "cell_type": "code",
   "execution_count": 32,
   "metadata": {},
   "outputs": [],
   "source": [
    "n_antecesores = "
   ]
  },
  {
   "cell_type": "code",
   "execution_count": 44,
   "metadata": {},
   "outputs": [],
   "source": [
    "fig = go.Figure()\n",
    "fig.show(renderer = 'browser')"
   ]
  },
  {
   "cell_type": "markdown",
   "metadata": {},
   "source": [
    "### Parametrización de modelos\n",
    "\n",
    "¿De qué variables/parámetros depende nuestro modelo?"
   ]
  },
  {
   "cell_type": "code",
   "execution_count": null,
   "metadata": {},
   "outputs": [],
   "source": []
  },
  {
   "cell_type": "code",
   "execution_count": 45,
   "metadata": {},
   "outputs": [],
   "source": [
    "soportes = [regla[1] for regla in reglas]\n",
    "confianzas = [regla[2][0][2] for regla in reglas]\n",
    "lifts = [regla[2][0][3] for regla in reglas]\n",
    "infos = [extraer_info(regla) for regla in reglas]\n",
    "n_antecesores = [len(list(regla[2][0][0])) for regla in reglas]"
   ]
  },
  {
   "cell_type": "code",
   "execution_count": 46,
   "metadata": {},
   "outputs": [],
   "source": [
    "fig = go.Figure()\n",
    "fig.show(renderer = 'browser')"
   ]
  },
  {
   "cell_type": "code",
   "execution_count": null,
   "metadata": {},
   "outputs": [],
   "source": []
  },
  {
   "cell_type": "markdown",
   "metadata": {},
   "source": [
    "# Generación de Aplicaciones Locales con Dash"
   ]
  },
  {
   "cell_type": "markdown",
   "metadata": {},
   "source": [
    "Dash es un _framework_ de Python para crear aplicaciones web. Ideal para crear aplicaciones de visualización de datos con interfaces de usuario altamente personalizadas en Python puro. Es especialmente adecuado para cualquier persona que trabaje con datos en Python. Las aplicaciones locales se acceden vía navegadores web. \n",
    "\n",
    "Más información: \n",
    "- [Página principal Dash](https://plot.ly/dash/) \n",
    "- [Tutorial Dash](https://dash.plot.ly/)"
   ]
  },
  {
   "cell_type": "markdown",
   "metadata": {},
   "source": [
    "Para ejecutar una aplicación Dash debe guardar el código en formato _.py_ (ideal trabajar en Spyder) y luego correr el siguiente comando desde la Anaconda Prompt, ubicado en el directorio en el que se encuentra el archivo (esto se logra con el comando _cd_):\n",
    "\n",
    "_python aplicacion.py_\n",
    "\n",
    "Verá algo así:\n",
    "\n",
    "<center>\n",
    "<img src='im/ejec_dash.PNG'> \n",
    "</center>"
   ]
  },
  {
   "cell_type": "markdown",
   "metadata": {},
   "source": [
    "Luego, simplemente entre desde su navegador de preferencia a http://127.0.0.1:8050"
   ]
  },
  {
   "cell_type": "code",
   "execution_count": null,
   "metadata": {},
   "outputs": [],
   "source": []
  }
 ],
 "metadata": {
  "kernelspec": {
   "display_name": "Python 3",
   "language": "python",
   "name": "python3"
  },
  "language_info": {
   "codemirror_mode": {
    "name": "ipython",
    "version": 3
   },
   "file_extension": ".py",
   "mimetype": "text/x-python",
   "name": "python",
   "nbconvert_exporter": "python",
   "pygments_lexer": "ipython3",
   "version": "3.7.1"
  }
 },
 "nbformat": 4,
 "nbformat_minor": 2
}
